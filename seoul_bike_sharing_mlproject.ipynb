{
  "nbformat": 4,
  "nbformat_minor": 0,
  "metadata": {
    "colab": {
      "private_outputs": true,
      "provenance": [],
      "collapsed_sections": [
        "vncDsAP0Gaoa",
        "FJNUwmbgGyua",
        "w6K7xa23Elo4",
        "yQaldy8SH6Dl",
        "mDgbUHAGgjLW",
        "O_i_v8NEhb9l",
        "HhfV-JJviCcP",
        "Y3lxredqlCYt",
        "3RnN4peoiCZX",
        "x71ZqKXriCWQ",
        "7hBIi_osiCS2",
        "JlHwYmJAmNHm",
        "35m5QtbWiB9F",
        "PoPl-ycgm1ru",
        "H0kj-8xxnORC",
        "nA9Y7ga8ng1Z",
        "PBTbrJXOngz2",
        "u3PMJOP6ngxN",
        "dauF4eBmngu3",
        "bKJF3rekwFvQ",
        "MSa1f5Uengrz",
        "GF8Ens_Soomf",
        "0wOQAZs5pc--",
        "K5QZ13OEpz2H",
        "lQ7QKXXCp7Bj",
        "448CDAPjqfQr",
        "KSlN3yHqYklG",
        "t6dVpIINYklI",
        "ijmpgYnKYklI",
        "-JiQyfWJYklI",
        "EM7whBJCYoAo",
        "fge-S5ZAYoAp",
        "85gYPyotYoAp",
        "RoGjAbkUYoAp",
        "4Of9eVA-YrdM",
        "iky9q4vBYrdO",
        "F6T5p64dYrdO",
        "y-Ehk30pYrdP",
        "bamQiAODYuh1",
        "QHF8YVU7Yuh3",
        "GwzvFGzlYuh3",
        "qYpmQ266Yuh3",
        "OH-pJp9IphqM",
        "bbFf2-_FphqN",
        "_ouA3fa0phqN",
        "Seke61FWphqN",
        "PIIx-8_IphqN",
        "t27r6nlMphqO",
        "r2jJGEOYphqO",
        "b0JNsNcRphqO",
        "BZR9WyysphqO",
        "jj7wYXLtphqO",
        "eZrbJ2SmphqO",
        "rFu4xreNphqO",
        "YJ55k-q6phqO",
        "gCFgpxoyphqP",
        "OVtJsKN_phqQ",
        "lssrdh5qphqQ",
        "U2RJ9gkRphqQ",
        "1M8mcRywphqQ",
        "tgIPom80phqQ",
        "JMzcOPDDphqR",
        "x-EpHcCOp1ci",
        "X_VqEhTip1ck",
        "8zGJKyg5p1ck",
        "PVzmfK_Ep1ck",
        "n3dbpmDWp1ck",
        "ylSl6qgtp1ck",
        "ZWILFDl5p1ck",
        "M7G43BXep1ck",
        "Ag9LCva-p1cl",
        "E6MkPsBcp1cl",
        "2cELzS2fp1cl",
        "3MPXvC8up1cl",
        "NC_X3p0fY2L0",
        "UV0SzAkaZNRQ",
        "YPEH6qLeZNRQ",
        "q29F0dvdveiT",
        "EXh0U9oCveiU",
        "22aHeOlLveiV",
        "g-ATYxFrGrvw",
        "Yfr_Vlr8HBkt",
        "8yEUt7NnHlrM",
        "tEA2Xm5dHt1r",
        "I79__PHVH19G",
        "Ou-I18pAyIpj",
        "fF3858GYyt-u",
        "4_0_7-oCpUZd",
        "hwyV_J3ipUZe",
        "3yB-zSqbpUZe",
        "dEUvejAfpUZe",
        "Fd15vwWVpUZf",
        "bn_IUdTipZyH",
        "49K5P_iCpZyH",
        "Nff-vKELpZyI",
        "kLW572S8pZyI",
        "dWbDXHzopZyI",
        "yLjJCtPM0KBk",
        "xiyOF9F70UgQ",
        "7wuGOrhz0itI",
        "id1riN9m0vUs",
        "578E2V7j08f6",
        "89xtkJwZ18nB",
        "67NQN5KX2AMe",
        "Iwf50b-R2tYG",
        "GMQiZwjn3iu7",
        "WVIkgGqN3qsr",
        "XkPnILGE3zoT",
        "Hlsf0x5436Go",
        "mT9DMSJo4nBL",
        "c49ITxTc407N",
        "OeJFEK0N496M",
        "9ExmJH0g5HBk",
        "cJNqERVU536h",
        "k5UmGsbsOxih",
        "T0VqWOYE6DLQ",
        "qBMux9mC6MCf",
        "-oLEiFgy-5Pf",
        "C74aWNz2AliB",
        "2DejudWSA-a0",
        "pEMng2IbBLp7",
        "rAdphbQ9Bhjc",
        "TNVZ9zx19K6k",
        "nqoHp30x9hH9",
        "rMDnDkt2B6du",
        "yiiVWRdJDDil",
        "1UUpS68QDMuG",
        "kexQrXU-DjzY",
        "T5CmagL3EC8N",
        "BhH2vgX9EjGr",
        "qjKvONjwE8ra",
        "P1XJ9OREExlT",
        "VFOzZv6IFROw",
        "TIqpNgepFxVj",
        "VfCC591jGiD4",
        "OB4l2ZhMeS1U",
        "ArJBuiUVfxKd",
        "4qY1EAkEfxKe",
        "PiV4Ypx8fxKe",
        "TfvqoZmBfxKf",
        "dJ2tPlVmpsJ0",
        "JWYfwnehpsJ1",
        "-jK_YjpMpsJ2",
        "HAih1iBOpsJ2",
        "zVGeBEFhpsJ2",
        "bmKjuQ-FpsJ3",
        "Fze-IPXLpx6K",
        "7AN1z2sKpx6M",
        "9PIHJqyupx6M",
        "_-qAgymDpx6N",
        "Z-hykwinpx6N",
        "h_CCil-SKHpo",
        "cBFFvTBNJzUa",
        "HvGl1hHyA_VK",
        "EyNgTHvd2WFk",
        "KH5McJBi2d8v",
        "iW_Lq9qf2h6X",
        "-Kee-DAl2viO",
        "gCX9965dhzqZ",
        "gIfDvo9L0UH2"
      ],
      "include_colab_link": true
    },
    "kernelspec": {
      "name": "python3",
      "display_name": "Python 3"
    },
    "language_info": {
      "name": "python"
    }
  },
  "cells": [
    {
      "cell_type": "markdown",
      "metadata": {
        "id": "view-in-github",
        "colab_type": "text"
      },
      "source": [
        "<a href=\"https://colab.research.google.com/github/khushijain822/bike_sharing/blob/main/seoul_bike_sharing_mlproject.ipynb\" target=\"_parent\"><img src=\"https://colab.research.google.com/assets/colab-badge.svg\" alt=\"Open In Colab\"/></a>"
      ]
    },
    {
      "cell_type": "markdown",
      "source": [
        "# **Project Name**-\n",
        "# SEOUL BIKE SHARING DEMAND PRIDICTION"
      ],
      "metadata": {
        "id": "vncDsAP0Gaoa"
      }
    },
    {
      "cell_type": "markdown",
      "source": [
        "\n",
        "##### **Contribution**    - Individual\n"
      ],
      "metadata": {
        "id": "beRrZCGUAJYm"
      }
    },
    {
      "cell_type": "markdown",
      "source": [
        "# **Project Summary-**\n",
        "\n",
        "\n",
        "\n"
      ],
      "metadata": {
        "id": "FJNUwmbgGyua"
      }
    },
    {
      "cell_type": "markdown",
      "source": [
        "Rental bike programs in cities make it easier to get around and are good for the environment. For these programs to work well, bikes need to be available when and where people need them. This requires predicting how many bikes will be needed at different times of the day.\n",
        "\n",
        "By looking at data like past usage patterns and weather, advanced technology can help forecast bike demand. Real-time monitoring also helps keep track of where bikes are and move them as needed. Working with city planners and linking bike rentals with other public transportation can improve the system further.\n",
        "\n",
        "In short, using smart predictions and good management ensures that rental bikes are always available, making the system reliable and user-friendly."
      ],
      "metadata": {
        "id": "vGln0tsWwpeY"
      }
    },
    {
      "cell_type": "markdown",
      "metadata": {
        "id": "Ko_rVY38xKiM"
      },
      "source": [
        "# **GitHub Link -** https://github.com/khushijain822/bike_sharing.git"
      ]
    },
    {
      "cell_type": "markdown",
      "source": [
        "# **Problem Statement**\n"
      ],
      "metadata": {
        "id": "yQaldy8SH6Dl"
      }
    },
    {
      "cell_type": "markdown",
      "source": [
        "Rental bikes have recently been introduced in numerous urban areas to improve mobility and convenience. Ensuring that these rental bikes are available and accessible to the public at the right times is essential, as it reduces waiting times. Consequently, maintaining a consistent supply of rental bikes throughout the city becomes a significant concern. The key challenge is accurately predicting the number of bikes needed at each hour to ensure a stable supply of rental bikes."
      ],
      "metadata": {
        "id": "DpeJGUA3kjGy"
      }
    },
    {
      "cell_type": "markdown",
      "metadata": {
        "id": "AlLxAtlziMbP"
      },
      "source": [
        "## <b> Data Description </b>\n",
        "\n",
        "### <b> The dataset contains weather information (Temperature, Humidity, Windspeed, Visibility, Dewpoint, Solar radiation, Snowfall, Rainfall), the number of bikes rented per hour and date information.</b>\n",
        "\n",
        "\n",
        "### <b>Attribute Information: </b>\n",
        "\n",
        "* ### Date : year-month-day\n",
        "* ### Rented Bike count - Count of bikes rented at each hour\n",
        "* ### Hour - Hour of he day\n",
        "* ### Temperature-Temperature in Celsius\n",
        "* ### Humidity - %\n",
        "* ### Windspeed - m/s\n",
        "* ### Visibility - 10m\n",
        "* ### Dew point temperature - Celsius\n",
        "* ### Solar radiation - MJ/m2\n",
        "* ### Rainfall - mm\n",
        "* ### Snowfall - cm\n",
        "* ### Seasons - 1 = Winter,2 = Spring, 3 = Fall, 4 = Summer\n",
        "* ### Holiday - Holiday/No holiday\n",
        "* ### Functional Day - NoFunc(Non Functional Hours), Fun(Functional hours)"
      ]
    },
    {
      "cell_type": "markdown",
      "source": [
        "# **General Guidelines** : -  "
      ],
      "metadata": {
        "id": "mDgbUHAGgjLW"
      }
    },
    {
      "cell_type": "markdown",
      "source": [
        "1.   Well-structured, formatted, and commented code is required.\n",
        "2.   Exception Handling, Production Grade Code & Deployment Ready Code will be a plus. Those students will be awarded some additional credits.\n",
        "     \n",
        "     The additional credits will have advantages over other students during Star Student selection.\n",
        "       \n",
        "             [ Note: - Deployment Ready Code is defined as, the whole .ipynb notebook should be executable in one go\n",
        "                       without a single error logged. ]\n",
        "\n",
        "3.   Each and every logic should have proper comments.\n",
        "4. You may add as many number of charts you want. Make Sure for each and every chart the following format should be answered.\n",
        "        \n",
        "\n",
        "```\n",
        "# Chart visualization code\n",
        "```\n",
        "            \n",
        "\n",
        "*   Why did you pick the specific chart?\n",
        "*   What is/are the insight(s) found from the chart?\n",
        "* Will the gained insights help creating a positive business impact?\n",
        "Are there any insights that lead to negative growth? Justify with specific reason.\n",
        "\n",
        "5. You have to create at least 15 logical & meaningful charts having important insights.\n",
        "\n",
        "\n",
        "[ Hints : - Do the Vizualization in  a structured way while following \"UBM\" Rule.\n",
        "\n",
        "U - Univariate Analysis,\n",
        "\n",
        "B - Bivariate Analysis (Numerical - Categorical, Numerical - Numerical, Categorical - Categorical)\n",
        "\n",
        "M - Multivariate Analysis\n",
        " ]\n",
        "\n",
        "\n",
        "\n",
        "\n",
        "\n",
        "6. You may add more ml algorithms for model creation. Make sure for each and every algorithm, the following format should be answered.\n",
        "\n",
        "\n",
        "*   Explain the ML Model used and it's performance using Evaluation metric Score Chart.\n",
        "\n",
        "\n",
        "*   Cross- Validation & Hyperparameter Tuning\n",
        "\n",
        "*   Have you seen any improvement? Note down the improvement with updates Evaluation metric Score Chart.\n",
        "\n",
        "*   Explain each evaluation metric's indication towards business and the business impact pf the ML model used.\n",
        "\n",
        "\n",
        "\n",
        "\n",
        "\n",
        "\n",
        "\n",
        "\n",
        "\n",
        "\n",
        "\n",
        "\n",
        "\n",
        "\n",
        "\n",
        "\n",
        "\n",
        "\n"
      ],
      "metadata": {
        "id": "ZrxVaUj-hHfC"
      }
    },
    {
      "cell_type": "markdown",
      "source": [
        "# ***Let's Begin !***"
      ],
      "metadata": {
        "id": "O_i_v8NEhb9l"
      }
    },
    {
      "cell_type": "markdown",
      "source": [
        "## ***1. Know Your Data***"
      ],
      "metadata": {
        "id": "HhfV-JJviCcP"
      }
    },
    {
      "cell_type": "markdown",
      "source": [
        "### Import Libraries"
      ],
      "metadata": {
        "id": "Y3lxredqlCYt"
      }
    },
    {
      "cell_type": "code",
      "execution_count": null,
      "metadata": {
        "id": "Es_njtTVW0Es"
      },
      "outputs": [],
      "source": [
        "# importing libraries\n",
        "import pandas as pd\n",
        "import numpy as np\n",
        "import seaborn as sns\n",
        "import matplotlib.pyplot as plt\n",
        "import plotly as px\n",
        "from datetime import date\n",
        "\n",
        "sns.set_style('darkgrid')\n",
        "# Importing Minmaxscaler to scale data\n",
        "from sklearn.preprocessing import MinMaxScaler,StandardScaler\n",
        "\n",
        "#Import the Models\n",
        "from sklearn.linear_model import LinearRegression\n",
        "from sklearn.preprocessing import PolynomialFeatures\n",
        "from sklearn.linear_model import Ridge\n",
        "from sklearn.tree import DecisionTreeRegressor\n",
        "from sklearn.ensemble import BaggingRegressor\n",
        "from sklearn.ensemble import AdaBoostRegressor\n",
        "from sklearn.ensemble import GradientBoostingRegressor\n",
        "from xgboost import XGBRegressor\n",
        "from sklearn.linear_model import SGDRegressor\n",
        "from sklearn.ensemble import RandomForestRegressor\n",
        "from sklearn.model_selection import cross_val_score\n",
        "\n",
        "# importing library called warning to ignore warnings.\n",
        "import warnings\n",
        "warnings.filterwarnings(\"ignore\")"
      ]
    },
    {
      "cell_type": "markdown",
      "source": [
        "### Dataset Loading"
      ],
      "metadata": {
        "id": "3RnN4peoiCZX"
      }
    },
    {
      "cell_type": "code",
      "execution_count": null,
      "metadata": {
        "id": "mk2q3vewWoaL"
      },
      "outputs": [],
      "source": [
        "# Load Dataset\n",
        "# Mount drive\n",
        "from google.colab import drive\n",
        "drive.mount('/content/drive')"
      ]
    },
    {
      "cell_type": "code",
      "execution_count": null,
      "metadata": {
        "id": "-QewITcJW8_z"
      },
      "outputs": [],
      "source": [
        "# load & save data\n",
        "data=pd.read_csv('/content/drive/MyDrive/Colab Notebooks/SeoulBikeData.csv',encoding='latin-1')"
      ]
    },
    {
      "cell_type": "code",
      "execution_count": null,
      "metadata": {
        "id": "TNqQVmYyXHNZ"
      },
      "outputs": [],
      "source": [
        "# creating copy so as to not disturb original dataset\n",
        "df=data.copy()"
      ]
    },
    {
      "cell_type": "markdown",
      "source": [
        "### Dataset First View"
      ],
      "metadata": {
        "id": "x71ZqKXriCWQ"
      }
    },
    {
      "cell_type": "code",
      "execution_count": null,
      "metadata": {
        "id": "9UmgtM2QynPi"
      },
      "outputs": [],
      "source": [
        "# Dataset First Look\n",
        "df.head().T"
      ]
    },
    {
      "cell_type": "code",
      "execution_count": null,
      "metadata": {
        "id": "Emx9mMC8pjPz"
      },
      "outputs": [],
      "source": [
        "#checking bottom 5 rows\n",
        "df.tail()"
      ]
    },
    {
      "cell_type": "code",
      "execution_count": null,
      "metadata": {
        "id": "DBRo1tlbpzpq"
      },
      "outputs": [],
      "source": [
        "#checking random samples of data\n",
        "df.sample(5)"
      ]
    },
    {
      "cell_type": "markdown",
      "source": [
        "### Dataset Rows & Columns count"
      ],
      "metadata": {
        "id": "7hBIi_osiCS2"
      }
    },
    {
      "cell_type": "code",
      "execution_count": null,
      "metadata": {
        "id": "3hxGd8wWziDu"
      },
      "outputs": [],
      "source": [
        "# Dataset Rows & Columns count\n",
        "#rows& columns of data\n",
        "df.shape\n"
      ]
    },
    {
      "cell_type": "code",
      "execution_count": null,
      "metadata": {
        "id": "KChe2kGWqMXF"
      },
      "outputs": [],
      "source": [
        "#total datapoints\n",
        "df.size"
      ]
    },
    {
      "cell_type": "markdown",
      "source": [
        "### Dataset Information"
      ],
      "metadata": {
        "id": "JlHwYmJAmNHm"
      }
    },
    {
      "cell_type": "code",
      "execution_count": null,
      "metadata": {
        "id": "yRnW1acfz23o"
      },
      "outputs": [],
      "source": [
        "# Dataset Info\n",
        "#checking non null and datatypes\n",
        "df.info()"
      ]
    },
    {
      "cell_type": "markdown",
      "source": [
        "#### Duplicate Values"
      ],
      "metadata": {
        "id": "35m5QtbWiB9F"
      }
    },
    {
      "cell_type": "code",
      "execution_count": null,
      "metadata": {
        "id": "rPQv5bq1z67o"
      },
      "outputs": [],
      "source": [
        "# Dataset Duplicate Value Count\n",
        "df.duplicated().sum()"
      ]
    },
    {
      "cell_type": "markdown",
      "source": [
        "#### Missing Values/Null Values"
      ],
      "metadata": {
        "id": "PoPl-ycgm1ru"
      }
    },
    {
      "cell_type": "code",
      "execution_count": null,
      "metadata": {
        "id": "3NoZPiit0Ai-"
      },
      "outputs": [],
      "source": [
        "# Missing Values/Null Values Count\n",
        "df.isnull().sum()"
      ]
    },
    {
      "cell_type": "code",
      "execution_count": null,
      "metadata": {
        "id": "OdM7YVb0hnty"
      },
      "outputs": [],
      "source": [
        "# Visualizing the missing values\n",
        "# Heatmap to see null values in dataset\n",
        "\n",
        "plt.figure(figsize=(15,8))\n",
        "sns.heatmap(df.isnull(),cbar=False,cmap=\"PiYG\")\n",
        "plt.title('Missing values display',fontsize=30,fontweight=\"bold\")\n",
        "plt.show()"
      ]
    },
    {
      "cell_type": "markdown",
      "source": [
        "### What did you know about your dataset?\n",
        "\n"
      ],
      "metadata": {
        "id": "H0kj-8xxnORC"
      }
    },
    {
      "cell_type": "markdown",
      "source": [
        "\n",
        "\n",
        "1.In our Dataset 8760 Rows and 14 Coloums\n",
        "\n",
        "2.No null values found in our Dataset\n",
        "\n",
        "3.We will change the Datatypes of date column from object to date_time format.\n",
        "\n",
        "4.We will convert datatypes of Functioning Day , Season ,Holidays from object type to categorical data , which help in Machine learning algos.\n"
      ],
      "metadata": {
        "id": "gfoNAAC-nUe_"
      }
    },
    {
      "cell_type": "markdown",
      "source": [
        "## ***2. Understanding Your Variables***"
      ],
      "metadata": {
        "id": "nA9Y7ga8ng1Z"
      }
    },
    {
      "cell_type": "code",
      "execution_count": null,
      "metadata": {
        "id": "hhACv6681NYc"
      },
      "outputs": [],
      "source": [
        "# Dataset Columns\n",
        "df.columns.to_list()"
      ]
    },
    {
      "cell_type": "code",
      "execution_count": null,
      "metadata": {
        "id": "tUiBturf1RkZ"
      },
      "outputs": [],
      "source": [
        "# Dataset Describe\n",
        "df.describe().round(2).T"
      ]
    },
    {
      "cell_type": "code",
      "execution_count": null,
      "metadata": {
        "id": "aZ_mI8fVsMIJ"
      },
      "outputs": [],
      "source": [
        "df.describe(include='O').T"
      ]
    },
    {
      "cell_type": "markdown",
      "source": [
        "### Variables Description"
      ],
      "metadata": {
        "id": "PBTbrJXOngz2"
      }
    },
    {
      "cell_type": "markdown",
      "source": [
        "1.Season:\n",
        "There are 4 unique seasons: Spring, Summer, Winter, and Fall.\n",
        "Spring is the most frequent season, appearing 2,208 times.\n",
        "\n",
        "2.Holiday:\n",
        "There are 2 unique values: Holiday and No-Holiday.\n",
        "No-Holiday is the most common, appearing 8,328 times.\n",
        "\n",
        "3.Functioning Day:\n",
        "There are 2 unique values: Yes and No.\n",
        "\n",
        "4.Rented Bike Count:\n",
        "The maximum number of bikes rented in an hour is 3,356.\n",
        "The minimum number of bikes rented in an hour is 0.\n",
        "These details help us understand the data better and prepare it for further analysis.\n",
        "\n",
        "\n",
        "\n",
        "\n",
        "\n"
      ],
      "metadata": {
        "id": "aJV4KIxSnxay"
      }
    },
    {
      "cell_type": "markdown",
      "source": [
        "### Check Unique Values for each variable."
      ],
      "metadata": {
        "id": "u3PMJOP6ngxN"
      }
    },
    {
      "cell_type": "code",
      "execution_count": null,
      "metadata": {
        "id": "-ong35ic4foE"
      },
      "outputs": [],
      "source": [
        "# Check Unique Values for each variable. So that if some wrong entries like #,@,%,?,+,& in string or in integer type coloumn that we are unable to find during null value detection.\n",
        "for num,col in enumerate(df.columns,1):\n",
        "    print('\\n')\n",
        "    print(num,')\\n','{} : {}'.format(col,df[col].unique().tolist()))"
      ]
    },
    {
      "cell_type": "markdown",
      "source": [
        "## 3. ***Data Wrangling***"
      ],
      "metadata": {
        "id": "dauF4eBmngu3"
      }
    },
    {
      "cell_type": "markdown",
      "source": [
        "### Data Wrangling Code"
      ],
      "metadata": {
        "id": "bKJF3rekwFvQ"
      }
    },
    {
      "cell_type": "code",
      "execution_count": null,
      "metadata": {
        "id": "g2Wycwi_XcZ3"
      },
      "outputs": [],
      "source": [
        "# Write your code to make your dataset analysis ready.\n",
        "# get sum of missing values in every column\n",
        "df.isna().sum()"
      ]
    },
    {
      "cell_type": "code",
      "execution_count": null,
      "metadata": {
        "id": "Q7rN98dfXgPD"
      },
      "outputs": [],
      "source": [
        "# sum of duplicated rows in dataset\n",
        "df.duplicated().sum()"
      ]
    },
    {
      "cell_type": "code",
      "execution_count": null,
      "metadata": {
        "id": "GhAi9PQ_XYf-"
      },
      "outputs": [],
      "source": [
        "# extracting day,month,year from date\n",
        "from datetime import date\n",
        "df['Date']=pd.to_datetime(df['Date'], format=\"%d/%m/%Y\")\n",
        "df['year']=df['Date'].dt.year\n",
        "df['month']=df['Date'].dt.month\n",
        "df['day']=df['Date'].dt.day\n",
        "df['day_name']=df['Date'].dt.day_name()"
      ]
    },
    {
      "cell_type": "code",
      "execution_count": null,
      "metadata": {
        "id": "xiLZf5xzW1G4"
      },
      "outputs": [],
      "source": [
        "# Convert Hour in Object form\n",
        "df['Hour']=df['Hour'].astype('object')\n"
      ]
    },
    {
      "cell_type": "code",
      "execution_count": null,
      "metadata": {
        "id": "H9bQiN2INMqp"
      },
      "outputs": [],
      "source": [
        "df.info()"
      ]
    },
    {
      "cell_type": "markdown",
      "source": [
        "### What all manipulations have you done and insights you found?"
      ],
      "metadata": {
        "id": "MSa1f5Uengrz"
      }
    },
    {
      "cell_type": "markdown",
      "source": [
        "1. Calculated the total number of missing values in each column.\n",
        "2. Calculated the number of duplicated rows in the dataset.\n",
        "3. Converted the 'Date' column to a datetime object and extracted year,\n",
        "   month, day, and day name from the date.\n",
        "4. Changed the data type of the 'Hour' column to an object (string).\n",
        "5. Provided a concise summary of the DataFrame, including the number of\n",
        "   non-null entries, column names, data types, and memory usage.   \n",
        "\n"
      ],
      "metadata": {
        "id": "LbyXE7I1olp8"
      }
    },
    {
      "cell_type": "markdown",
      "source": [
        "## ***4. Data Vizualization, Storytelling & Experimenting with charts : Understand the relationships between variables***"
      ],
      "metadata": {
        "id": "GF8Ens_Soomf"
      }
    },
    {
      "cell_type": "markdown",
      "source": [
        "#### Chart - 1"
      ],
      "metadata": {
        "id": "0wOQAZs5pc--"
      }
    },
    {
      "cell_type": "code",
      "source": [
        "# Chart - 1 visualization code"
      ],
      "metadata": {
        "id": "7v_ESjsspbW7"
      },
      "execution_count": null,
      "outputs": []
    },
    {
      "cell_type": "code",
      "execution_count": null,
      "metadata": {
        "id": "RVeF_X_4M-64"
      },
      "outputs": [],
      "source": [
        "# Bar plot for Daily, Hourly, monthly & yearly Rented Bike count\n",
        "cols = ['day','Hour','year','month']\n",
        "\n",
        "n=1\n",
        "plt.figure(figsize=(20,12))\n",
        "for i in cols:\n",
        "  plt.subplot(2,2,n)\n",
        "  n=n+1\n",
        "  sns.barplot(data=df,x=i,y='Rented Bike Count')\n",
        "  plt.title(f\"count of {i}\")\n",
        "plt.show()"
      ]
    },
    {
      "cell_type": "markdown",
      "source": [
        "##### 1. Why did you pick the specific chart?"
      ],
      "metadata": {
        "id": "K5QZ13OEpz2H"
      }
    },
    {
      "cell_type": "markdown",
      "metadata": {
        "id": "imPe7NEO3Nmw"
      },
      "source": [
        "I chose bar plots for their clarity in comparing categorical data, making it easy to interpret variations in 'Rented Bike Count' across days, hours, years, and months. They effectively highlight trends and patterns in bike rentals. Bar plots are simple, straightforward, and well-suited for categorical comparisons.\n",
        "\n",
        "\n",
        "\n",
        "\n",
        "\n"
      ]
    },
    {
      "cell_type": "markdown",
      "source": [
        "##### 2. What is/are the insight(s) found from the chart?"
      ],
      "metadata": {
        "id": "lQ7QKXXCp7Bj"
      }
    },
    {
      "cell_type": "markdown",
      "source": [
        "The insights from the bar plots are:\n",
        "\n",
        "1. **Day**: Certain days of the week have higher bike rentals, indicating weekly usage patterns.\n",
        "2. **Hour**: There are clear peak hours for bike rentals, suggesting specific times of day when bikes are in higher demand.\n",
        "3. **Year**: The trend in yearly data shows whether bike rentals are increasing or decreasing over time.\n",
        "4. **Month**: Seasonal variations are evident, with some months having higher bike rentals, indicating the influence of weather or other seasonal factors."
      ],
      "metadata": {
        "id": "C_j1G7yiqdRP"
      }
    },
    {
      "cell_type": "markdown",
      "source": [
        "##### 3. Will the gained insights help creating a positive business impact?\n",
        "Are there any insights that lead to negative growth? Justify with specific reason."
      ],
      "metadata": {
        "id": "448CDAPjqfQr"
      }
    },
    {
      "cell_type": "markdown",
      "source": [
        "The insights can positively impact business by optimizing resource allocation and marketing strategies. Negative growth indicators, like declining yearly trends, prompt proactive adjustments to sustain market competitiveness."
      ],
      "metadata": {
        "id": "3cspy4FjqxJW"
      }
    },
    {
      "cell_type": "markdown",
      "metadata": {
        "id": "xYuZ9wWzOaS2"
      },
      "source": [
        "## **Monthly Rented Bike count for 2017 & 2018**"
      ]
    },
    {
      "cell_type": "markdown",
      "source": [
        " Chart - 2"
      ],
      "metadata": {
        "id": "JXfn4OwH8RD0"
      }
    },
    {
      "cell_type": "code",
      "source": [
        "# Chart - 2 visualization code"
      ],
      "metadata": {
        "id": "R4YgtaqtYklH"
      },
      "execution_count": null,
      "outputs": []
    },
    {
      "cell_type": "code",
      "execution_count": null,
      "metadata": {
        "id": "9KJzlA19B66l"
      },
      "outputs": [],
      "source": [
        "plt.figure(figsize=(12,8))\n",
        "sns.barplot(data=df,x='month',y='Rented Bike Count',hue ='year')\n",
        "plt.title('Monthly Rented Bike count for 2017 & 2018')\n",
        "plt.show()"
      ]
    },
    {
      "cell_type": "markdown",
      "source": [
        "##### 1. Why did you pick the specific chart?"
      ],
      "metadata": {
        "id": "t6dVpIINYklI"
      }
    },
    {
      "cell_type": "markdown",
      "source": [
        "I chose a grouped bar chart ('sns.barplot') with 'month' on the x-axis and 'Rented Bike Count' on the y-axis, differentiated by 'year' using colors ('hue='year''). This chart is suitable because it allows for easy comparison of monthly bike rental counts between two different years, 2017 and 2018, showing any seasonal patterns or trends.\n"
      ],
      "metadata": {
        "id": "5aaW0BYyYklI"
      }
    },
    {
      "cell_type": "markdown",
      "source": [
        "##### 2. What is/are the insight(s) found from the chart?"
      ],
      "metadata": {
        "id": "ijmpgYnKYklI"
      }
    },
    {
      "cell_type": "markdown",
      "source": [
        "The insights from the chart showing the monthly rented bike count for 2017 and 2018 are:\n",
        "\n",
        "1. Seasonal Patterns: Identification of months with consistently high or low bike rental counts across both years, indicating seasonal trends in demand.\n",
        "\n",
        "2. Yearly Comparison: Comparison between 2017 and 2018 reveals any growth or decline in bike rentals month-by-month, highlighting areas of improvement or concern.\n",
        "\n",
        "3. Peak Months: Identification of peak months where bike rental counts are significantly higher, suggesting opportunities for targeted promotions or increased inventory during those periods."
      ],
      "metadata": {
        "id": "PSx9atu2YklI"
      }
    },
    {
      "cell_type": "markdown",
      "source": [
        "##### 3. Will the gained insights help creating a positive business impact?\n",
        "Are there any insights that lead to negative growth? Justify with specific reason."
      ],
      "metadata": {
        "id": "-JiQyfWJYklI"
      }
    },
    {
      "cell_type": "markdown",
      "source": [
        "1. Positive Impact: Insights can optimize resource allocation and marketing strategies during peak months, enhancing operational efficiency and revenue generation.\n",
        "\n",
        "2. Negative Growth Considerations: Declining rental counts between 2017 and 2018 may highlight challenges such as changing market dynamics or seasonal fluctuations, prompting proactive adjustments to sustain growth and competitiveness.\n",
        "\n",
        "\n",
        "\n",
        "\n",
        "\n"
      ],
      "metadata": {
        "id": "BcBbebzrYklV"
      }
    },
    {
      "cell_type": "markdown",
      "source": [
        "#### Chart - 3"
      ],
      "metadata": {
        "id": "EM7whBJCYoAo"
      }
    },
    {
      "cell_type": "code",
      "source": [
        "# Chart - 3 visualization code"
      ],
      "metadata": {
        "id": "t6GMdE67YoAp"
      },
      "execution_count": null,
      "outputs": []
    },
    {
      "cell_type": "code",
      "execution_count": null,
      "metadata": {
        "id": "th-uON-Hd4si"
      },
      "outputs": [],
      "source": [
        "# Rented Bike count in every season\n",
        "plt.figure(figsize=(8,8))\n",
        "df.groupby('Seasons')['Rented Bike Count'].sum().plot.pie(autopct=\"%.2f%%\")\n",
        "plt.title(' Rented Bike count in every season')\n",
        "plt.show()"
      ]
    },
    {
      "cell_type": "markdown",
      "metadata": {
        "id": "ChI2TEWD_fb9"
      },
      "source": [
        "**As seen earlier demand for rented bike is high in summer 36.99%  \n",
        "Demand is least in winter only 7.8%**\n"
      ]
    },
    {
      "cell_type": "code",
      "execution_count": null,
      "metadata": {
        "id": "nrdNcHHt9POQ"
      },
      "outputs": [],
      "source": [
        "df.groupby('Hour')['Solar Radiation (MJ/m2)'].sum()"
      ]
    },
    {
      "cell_type": "markdown",
      "source": [
        "##### 1. Why did you pick the specific chart?"
      ],
      "metadata": {
        "id": "fge-S5ZAYoAp"
      }
    },
    {
      "cell_type": "markdown",
      "source": [
        "I chose a pie chart because it shows clearly how bike rentals are divided among different seasons, making it easy to compare which season has the most rentals. It's a simple way to see the proportion of rentals in each season at a glance.\n",
        "\n",
        "\n",
        "\n",
        "\n",
        "\n"
      ],
      "metadata": {
        "id": "5dBItgRVYoAp"
      }
    },
    {
      "cell_type": "markdown",
      "source": [
        "##### 2. What is/are the insight(s) found from the chart?"
      ],
      "metadata": {
        "id": "85gYPyotYoAp"
      }
    },
    {
      "cell_type": "markdown",
      "source": [
        "The insights from the pie chart showing the distribution of rented bike counts in each season are:\n",
        "\n",
        "1. Seasonal Demand: It reveals which seasons have the highest and lowest bike rental counts, indicating peak periods of demand.\n",
        "\n",
        "2. Relative Contribution: The chart illustrates the proportion of bike rentals contributed by each season to the total, helping to understand the seasonal variation in rental activity throughout the year."
      ],
      "metadata": {
        "id": "4jstXR6OYoAp"
      }
    },
    {
      "cell_type": "markdown",
      "source": [
        "##### 3. Will the gained insights help creating a positive business impact?\n",
        "Are there any insights that lead to negative growth? Justify with specific reason."
      ],
      "metadata": {
        "id": "RoGjAbkUYoAp"
      }
    },
    {
      "cell_type": "markdown",
      "source": [
        "1. Positive Impact: Insights into seasonal rental patterns help optimize resource allocation, staffing, and inventory management during peak demand periods, improving operational efficiency and customer satisfaction.\n",
        "\n",
        "2. Negative Growth Considerations: Identification of low rental activity in certain seasons suggests potential challenges such as decreased revenue and underutilization of resources, prompting the need for targeted strategies to stimulate demand and maintain business growth.\n",
        "\n",
        "\n",
        "\n",
        "\n",
        "\n"
      ],
      "metadata": {
        "id": "zfJ8IqMcYoAp"
      }
    },
    {
      "cell_type": "markdown",
      "metadata": {
        "id": "XX7PNoX-Pt8a"
      },
      "source": [
        "**Hourly Solar radiation Season wise**"
      ]
    },
    {
      "cell_type": "markdown",
      "source": [
        "#### Chart - 4"
      ],
      "metadata": {
        "id": "4Of9eVA-YrdM"
      }
    },
    {
      "cell_type": "code",
      "source": [
        "# Chart - 4 visualization code"
      ],
      "metadata": {
        "id": "irlUoxc8YrdO"
      },
      "execution_count": null,
      "outputs": []
    },
    {
      "cell_type": "code",
      "execution_count": null,
      "metadata": {
        "id": "QlZnVvWHfPm_"
      },
      "outputs": [],
      "source": [
        "plt.figure(figsize=(20,5))\n",
        "#df.groupby('Hour').sum()['Solar Radiation (MJ/m2)'].plot(kind='bar', color='red')\n",
        "sns.pointplot(x='Hour',y='Solar Radiation (MJ/m2)',hue='Seasons',data=df)\n",
        "plt.title('Hourly Solar radiation Season wise')\n",
        "plt.show()"
      ]
    },
    {
      "cell_type": "markdown",
      "metadata": {
        "id": "bZdp9CxB-fqv"
      },
      "source": [
        "\n",
        "**Solar radiations are at peak at 1pm\n",
        "And hourly interval of solar radiation seen for every season**\n"
      ]
    },
    {
      "cell_type": "markdown",
      "source": [
        "##### 1. Why did you pick the specific chart?"
      ],
      "metadata": {
        "id": "iky9q4vBYrdO"
      }
    },
    {
      "cell_type": "markdown",
      "source": [
        "I chose a point plot because it's great for showing how solar radiation changes throughout the day across different seasons. It helps easily spot peak times of solar activity and compare patterns between seasons.\n",
        "\n",
        "\n",
        "\n",
        "\n",
        "\n"
      ],
      "metadata": {
        "id": "aJRCwT6DYrdO"
      }
    },
    {
      "cell_type": "markdown",
      "source": [
        "##### 2. What is/are the insight(s) found from the chart?"
      ],
      "metadata": {
        "id": "F6T5p64dYrdO"
      }
    },
    {
      "cell_type": "markdown",
      "source": [
        "The insights from the point plot showing hourly solar radiation across different seasons are:\n",
        "\n",
        "1. Peak Hours: Identification of hours during the day when solar radiation is highest, which is crucial for optimizing solar energy capture and usage.\n",
        "\n",
        "2. Seasonal Variations: Comparison of solar radiation patterns across seasons reveals how sunlight intensity differs throughout the year, aiding in understanding seasonal changes in solar energy availability."
      ],
      "metadata": {
        "id": "Xx8WAJvtYrdO"
      }
    },
    {
      "cell_type": "markdown",
      "source": [
        "##### 3. Will the gained insights help creating a positive business impact?\n",
        "Are there any insights that lead to negative growth? Justify with specific reason."
      ],
      "metadata": {
        "id": "y-Ehk30pYrdP"
      }
    },
    {
      "cell_type": "markdown",
      "source": [
        "Yes, insights into peak solar radiation hours can optimize energy usage and reduce costs. However, lower radiation during critical periods may pose challenges for meeting energy demands, requiring strategic adjustments in energy management.\n",
        "\n"
      ],
      "metadata": {
        "id": "jLNxxz7MYrdP"
      }
    },
    {
      "cell_type": "markdown",
      "metadata": {
        "id": "WDuVoIoX-svM"
      },
      "source": [
        "**Rented Bike count on functioing day**"
      ]
    },
    {
      "cell_type": "code",
      "execution_count": null,
      "metadata": {
        "id": "JkMNaeEkBeHx"
      },
      "outputs": [],
      "source": [
        "df['Functioning Day'].value_counts()"
      ]
    },
    {
      "cell_type": "markdown",
      "source": [
        "#### Chart - 5"
      ],
      "metadata": {
        "id": "bamQiAODYuh1"
      }
    },
    {
      "cell_type": "code",
      "source": [
        "# Chart - 5 visualization code"
      ],
      "metadata": {
        "id": "TIJwrbroYuh3"
      },
      "execution_count": null,
      "outputs": []
    },
    {
      "cell_type": "code",
      "execution_count": null,
      "metadata": {
        "id": "2Kgk21QIFtzG"
      },
      "outputs": [],
      "source": [
        "sns.barplot(data=df,x='Functioning Day',y='Rented Bike Count')\n",
        "plt.title('Rented Bike count on functioing day')\n",
        "plt.show()"
      ]
    },
    {
      "cell_type": "markdown",
      "source": [
        "##### 1. Why did you pick the specific chart?"
      ],
      "metadata": {
        "id": "QHF8YVU7Yuh3"
      }
    },
    {
      "cell_type": "markdown",
      "source": [
        "I chose a bar plot because it's great for comparing how many bikes are rented on days when the system is functioning versus when it's not. It makes it easy to see the difference in rental counts between these two types of days.\n",
        "\n",
        "\n",
        "\n",
        "\n",
        "\n"
      ],
      "metadata": {
        "id": "dcxuIMRPYuh3"
      }
    },
    {
      "cell_type": "markdown",
      "source": [
        "##### 2. What is/are the insight(s) found from the chart?"
      ],
      "metadata": {
        "id": "GwzvFGzlYuh3"
      }
    },
    {
      "cell_type": "markdown",
      "source": [
        "1. Usage Impact: It reveals how bike rentals vary significantly between days when the system is operational versus non-operational, indicating the system's impact on user demand.\n",
        "\n",
        "2. Operational Efficiency: Insights into rental patterns can highlight days with higher or lower demand, guiding operational decisions to optimize system uptime and resource allocation.\n"
      ],
      "metadata": {
        "id": "uyqkiB8YYuh3"
      }
    },
    {
      "cell_type": "markdown",
      "source": [
        "##### 3. Will the gained insights help creating a positive business impact?\n",
        "Are there any insights that lead to negative growth? Justify with specific reason."
      ],
      "metadata": {
        "id": "qYpmQ266Yuh3"
      }
    },
    {
      "cell_type": "markdown",
      "source": [
        "Yes, insights into rental patterns can optimize operations, but inconsistent bike availability on non-functioning days may hinder growth due to missed revenue and customer dissatisfaction.\n",
        "\n",
        "\n",
        "\n",
        "\n",
        "\n"
      ],
      "metadata": {
        "id": "_WtzZ_hCYuh4"
      }
    },
    {
      "cell_type": "markdown",
      "metadata": {
        "id": "Qrx-1mQQ-y5K"
      },
      "source": [
        "**Rented Bike count on Holiday-non Holiday**"
      ]
    },
    {
      "cell_type": "markdown",
      "source": [
        "#### Chart - 6"
      ],
      "metadata": {
        "id": "OH-pJp9IphqM"
      }
    },
    {
      "cell_type": "code",
      "source": [
        "# Chart - 6 visualization code"
      ],
      "metadata": {
        "id": "kuRf4wtuphqN"
      },
      "execution_count": null,
      "outputs": []
    },
    {
      "cell_type": "code",
      "execution_count": null,
      "metadata": {
        "id": "fRcvwS71ExE_"
      },
      "outputs": [],
      "source": [
        "sns.barplot(data=df,x='Holiday',y='Rented Bike Count')\n",
        "plt.title('Rented Bike count on Holiday-non Holiday')\n",
        "plt.show()"
      ]
    },
    {
      "cell_type": "markdown",
      "metadata": {
        "id": "fXG-YMei_RU2"
      },
      "source": [
        "**No holiday has more rented bike count, this may indicates that customer uses bike on working day\n",
        "for travelling at workplace more than used on Holidays**\n",
        "\n"
      ]
    },
    {
      "cell_type": "markdown",
      "source": [
        "##### 1. Why did you pick the specific chart?"
      ],
      "metadata": {
        "id": "bbFf2-_FphqN"
      }
    },
    {
      "cell_type": "markdown",
      "source": [
        "I chose a bar plot (sns.barplot) because it's effective for comparing numerical values (bike rental counts) across different categories (holidays versus non-holidays). It visually represents the differences in rental counts between these two categorical groups in a straightforward and easy-to-understand manner."
      ],
      "metadata": {
        "id": "loh7H2nzphqN"
      }
    },
    {
      "cell_type": "markdown",
      "source": [
        "##### 2. What is/are the insight(s) found from the chart?"
      ],
      "metadata": {
        "id": "_ouA3fa0phqN"
      }
    },
    {
      "cell_type": "markdown",
      "source": [
        "Holiday Impact: It reveals whether bike rentals significantly differ on holidays compared to non-holidays, indicating how holidays influence customer behavior regarding bike usage.\n",
        "\n",
        "Operational Adjustments: Insights into rental patterns can guide businesses in adjusting operational strategies such as staffing levels and bike availability to meet varying customer demand during holidays versus regular days."
      ],
      "metadata": {
        "id": "VECbqPI7phqN"
      }
    },
    {
      "cell_type": "markdown",
      "source": [
        "##### 3. Will the gained insights help creating a positive business impact?\n",
        "Are there any insights that lead to negative growth? Justify with specific reason."
      ],
      "metadata": {
        "id": "Seke61FWphqN"
      }
    },
    {
      "cell_type": "markdown",
      "source": [
        "\n",
        "Yes, insights into holiday versus non-holiday rental patterns can optimize operations and increase revenue. However, lower rental activity during holidays may pose challenges for maximizing profitability and customer satisfaction, potentially impacting business growth negatively.\n",
        "\n",
        "\n",
        "\n",
        "\n",
        "\n"
      ],
      "metadata": {
        "id": "DW4_bGpfphqN"
      }
    },
    {
      "cell_type": "markdown",
      "metadata": {
        "id": "vfcUKz44_U0H"
      },
      "source": [
        "**Hourly distribution of Rented bike count on Holiday & non holiday**"
      ]
    },
    {
      "cell_type": "markdown",
      "source": [
        "#### Chart - 7"
      ],
      "metadata": {
        "id": "PIIx-8_IphqN"
      }
    },
    {
      "cell_type": "code",
      "source": [
        "# Chart - 7 visualization code"
      ],
      "metadata": {
        "id": "lqAIGUfyphqO"
      },
      "execution_count": null,
      "outputs": []
    },
    {
      "cell_type": "code",
      "execution_count": null,
      "metadata": {
        "id": "JhLu6GLNK_u_"
      },
      "outputs": [],
      "source": [
        "plt.figure(figsize=(14,8))\n",
        "sns.pointplot(data=df,y='Rented Bike Count',x='Hour',hue='Holiday')\n",
        "plt.title('Hourly distribution of Rented bike count on Holiday & non holiday')\n",
        "plt.show()"
      ]
    },
    {
      "cell_type": "markdown",
      "metadata": {
        "id": "srwKfVeO_e-e"
      },
      "source": [
        "**We can see peak from 7-9 am & (17-20) 5-8pm on NO holiday which indicates high demand period in daily time for rented bikes**"
      ]
    },
    {
      "cell_type": "markdown",
      "source": [
        "##### 1. Why did you pick the specific chart?"
      ],
      "metadata": {
        "id": "t27r6nlMphqO"
      }
    },
    {
      "cell_type": "markdown",
      "source": [
        "I chose a point plot because it shows hourly variations in bike rentals on holidays versus non-holidays, making it easy to spot peak demand times and compare trends across different days.\n",
        "\n",
        "\n",
        "\n",
        "\n",
        "\n"
      ],
      "metadata": {
        "id": "iv6ro40sphqO"
      }
    },
    {
      "cell_type": "markdown",
      "source": [
        "##### 2. What is/are the insight(s) found from the chart?"
      ],
      "metadata": {
        "id": "r2jJGEOYphqO"
      }
    },
    {
      "cell_type": "markdown",
      "source": [
        "Peak Demand Hours: Identification of specific hours during the day (such as 7-9 am and 5-8 pm) when bike rentals are highest, indicating peak demand periods.\n",
        "\n",
        "Holiday Influence: Comparison of rental patterns between holidays and non-holidays reveals how holiday status affects bike usage throughout the day, highlighting potential differences in commuter or recreational behaviors."
      ],
      "metadata": {
        "id": "Po6ZPi4hphqO"
      }
    },
    {
      "cell_type": "markdown",
      "source": [
        "##### 3. Will the gained insights help creating a positive business impact?\n",
        "Are there any insights that lead to negative growth? Justify with specific reason."
      ],
      "metadata": {
        "id": "b0JNsNcRphqO"
      }
    },
    {
      "cell_type": "markdown",
      "source": [
        "Yes, insights into peak demand hours help optimize operations and increase revenue. However, lower rentals during critical times or holidays may impact profitability negatively if not managed effectively.\n",
        "\n",
        "\n",
        "\n",
        "\n",
        "\n"
      ],
      "metadata": {
        "id": "xvSq8iUTphqO"
      }
    },
    {
      "cell_type": "markdown",
      "metadata": {
        "id": "BWKUV772GuZD"
      },
      "source": [
        "**Rented Bike count in every season hourly distribution**"
      ]
    },
    {
      "cell_type": "markdown",
      "source": [
        "#### Chart - 8"
      ],
      "metadata": {
        "id": "BZR9WyysphqO"
      }
    },
    {
      "cell_type": "code",
      "source": [
        "# Chart - 8 visualization code"
      ],
      "metadata": {
        "id": "TdPTWpAVphqO"
      },
      "execution_count": null,
      "outputs": []
    },
    {
      "cell_type": "code",
      "execution_count": null,
      "metadata": {
        "id": "LoBonjvVBhAe"
      },
      "outputs": [],
      "source": [
        "plt.figure(figsize=(14,8))\n",
        "sns.pointplot(data=df,y='Rented Bike Count',x='Hour',hue='Seasons')\n",
        "plt.title('Rented Bike count in every season hourly distribution')\n",
        "plt.show()"
      ]
    },
    {
      "cell_type": "markdown",
      "metadata": {
        "id": "i3S4J06U_miM"
      },
      "source": [
        "**Similar hourly pattern seen in every season so need of bike availability can be identified on hour basis. Irrespective of season peak is seen at 8am & 6pm**\n"
      ]
    },
    {
      "cell_type": "code",
      "execution_count": null,
      "metadata": {
        "id": "fEjgxoTDiHBa"
      },
      "outputs": [],
      "source": [
        "plt.figure(figsize=(14,8))\n",
        "sns.lineplot(data=df,y='Rented Bike Count',x='month')"
      ]
    },
    {
      "cell_type": "markdown",
      "source": [
        "##### 1. Why did you pick the specific chart?"
      ],
      "metadata": {
        "id": "jj7wYXLtphqO"
      }
    },
    {
      "cell_type": "markdown",
      "source": [
        "I chose the hourly point plot because it succinctly reveals peak bike rental hours at 8 AM and 6 PM across all seasons, aiding in understanding consistent demand patterns crucial for managing bike availability effectively and optimizing operational strategies.\n",
        "\n",
        "\n",
        "\n",
        "\n",
        "\n",
        "\n",
        "\n"
      ],
      "metadata": {
        "id": "Ob8u6rCTphqO"
      }
    },
    {
      "cell_type": "markdown",
      "source": [
        "##### 2. What is/are the insight(s) found from the chart?"
      ],
      "metadata": {
        "id": "eZrbJ2SmphqO"
      }
    },
    {
      "cell_type": "markdown",
      "source": [
        "1. Peak bike rental hours are consistently observed at 8 AM and 6 PM across all seasons.\n",
        "2. Similar hourly patterns are evident regardless of the season, indicating stable demand trends throughout the year.\n",
        "3. This consistency highlights the critical need for bike availability management during these peak hours, optimizing resource allocation and service efficiency.\n",
        "\n",
        "\n",
        "\n",
        "\n"
      ],
      "metadata": {
        "id": "mZtgC_hjphqO"
      }
    },
    {
      "cell_type": "markdown",
      "source": [
        "##### 3. Will the gained insights help creating a positive business impact?\n",
        "Are there any insights that lead to negative growth? Justify with specific reason."
      ],
      "metadata": {
        "id": "rFu4xreNphqO"
      }
    },
    {
      "cell_type": "markdown",
      "source": [
        "Positive Impact: Efficient resource allocation during peak hours enhances service availability and customer satisfaction, potentially increasing rental turnover.\n",
        "\n",
        "Negative Impact: Overemphasis on peak hours might neglect resource optimization during off-peak times, leading to inefficiencies and higher operational costs.\n",
        "\n",
        "\n",
        "\n",
        "\n",
        "\n"
      ],
      "metadata": {
        "id": "ey_0qi68phqO"
      }
    },
    {
      "cell_type": "markdown",
      "metadata": {
        "id": "QTkFmn8VIIOi"
      },
      "source": [
        "**Regplot – Relationship between Rental Bike count & numerical  variables**"
      ]
    },
    {
      "cell_type": "markdown",
      "source": [
        "#### Chart - 9"
      ],
      "metadata": {
        "id": "YJ55k-q6phqO"
      }
    },
    {
      "cell_type": "code",
      "source": [
        "# Chart - 9 visualization code"
      ],
      "metadata": {
        "id": "B2aS4O1ophqO"
      },
      "execution_count": null,
      "outputs": []
    },
    {
      "cell_type": "code",
      "execution_count": null,
      "metadata": {
        "id": "bMcn8ES88aaO"
      },
      "outputs": [],
      "source": [
        "numrical_var=['Temperature(°C)', 'Humidity(%)',\n",
        "       'Wind speed (m/s)', 'Visibility (10m)', 'Dew point temperature(°C)',\n",
        "       'Solar Radiation (MJ/m2)', 'Rainfall(mm)', 'Snowfall (cm)']\n",
        "\n",
        "plt.figure(figsize=(12,10))\n",
        "n=1\n",
        "for i in numrical_var:\n",
        "  plt.subplot(4,2,n)\n",
        "  n += 1\n",
        "  sns.regplot(x=df[i],y=df['Rented Bike Count'],scatter_kws={\"color\": \"orange\"}, line_kws={\"color\": \"red\"},lowess=True)\n",
        "  plt.tight_layout()"
      ]
    },
    {
      "cell_type": "markdown",
      "metadata": {
        "id": "f0Rb4lQQ_yrt"
      },
      "source": [
        "**This regression plots shows that some of our features are positive linear and some are negative linear in relation to our target variable.**\n",
        "\n"
      ]
    },
    {
      "cell_type": "markdown",
      "source": [
        "##### 1. Why did you pick the specific chart?"
      ],
      "metadata": {
        "id": "gCFgpxoyphqP"
      }
    },
    {
      "cell_type": "markdown",
      "source": [
        "I selected the regression plots because they visually depict how each numerical feature relates to 'Rented Bike Count', clearly showing whether the relationship is positive or negative, which is crucial for understanding factors affecting bike rental demand.\n",
        "\n",
        "\n",
        "\n",
        "\n",
        "\n"
      ],
      "metadata": {
        "id": "TVxDimi2phqP"
      }
    },
    {
      "cell_type": "markdown",
      "source": [
        "##### 2. What is/are the insight(s) found from the chart?"
      ],
      "metadata": {
        "id": "GnntluL1KweI"
      }
    },
    {
      "cell_type": "markdown",
      "source": [
        "Positive Relationships: Features like 'Temperature(°C)' and 'Solar Radiation (MJ/m2)' positively correlate with 'Rented Bike Count', indicating increased rentals during warmer weather and higher solar radiation levels.\n",
        "\n",
        "Negative Relationships: Variables such as 'Humidity(%)' and 'Rainfall(mm)' exhibit negative correlations with bike rentals, implying reduced demand during higher humidity and rainfall conditions."
      ],
      "metadata": {
        "id": "ngGi97qjphqQ"
      }
    },
    {
      "cell_type": "markdown",
      "source": [
        "##### 3. Will the gained insights help creating a positive business impact?\n",
        "Are there any insights that lead to negative growth? Justify with specific reason."
      ],
      "metadata": {
        "id": "lssrdh5qphqQ"
      }
    },
    {
      "cell_type": "markdown",
      "source": [
        "Positive Impact: Utilizing insights on weather-related correlations can optimize marketing and operations, enhancing rental demand and operational efficiency.\n",
        "\n",
        "Negative Impact: Overreliance on weather-dependent insights and failure to adapt to seasonal variability may pose risks, potentially leading to revenue fluctuations and operational challenges.\n",
        "\n",
        "\n",
        "\n",
        "\n",
        "\n",
        "\n"
      ],
      "metadata": {
        "id": "tBpY5ekJphqQ"
      }
    },
    {
      "cell_type": "markdown",
      "metadata": {
        "id": "X4vWKtCYLhr9"
      },
      "source": [
        "# **Multicollinearity Detection**"
      ]
    },
    {
      "cell_type": "markdown",
      "source": [
        "#### Chart - 10"
      ],
      "metadata": {
        "id": "U2RJ9gkRphqQ"
      }
    },
    {
      "cell_type": "code",
      "source": [
        "# Chart - 10 visualization code"
      ],
      "metadata": {
        "id": "GM7a4YP4phqQ"
      },
      "execution_count": null,
      "outputs": []
    },
    {
      "cell_type": "code",
      "execution_count": null,
      "metadata": {
        "id": "W90U-WVQDg6M"
      },
      "outputs": [],
      "source": [
        "numeric_columns = df.select_dtypes(include=['int', 'float'])"
      ]
    },
    {
      "cell_type": "code",
      "execution_count": null,
      "metadata": {
        "id": "0i5imEfMkA-f"
      },
      "outputs": [],
      "source": [
        "plt.figure(figsize=(12,10))\n",
        "sns.heatmap(numeric_columns.corr(),annot=True,cmap='PuOr')\n",
        "plt.title('Multicollinearity Detection by Heatmap')\n",
        "plt.show()"
      ]
    },
    {
      "cell_type": "markdown",
      "metadata": {
        "id": "NwmV7LWVLrld"
      },
      "source": [
        "**Observation:**\n",
        "\n",
        " We can see that there is **strong correlation** between the **temperature** and **dew point temperature** features which may cause trouble during the prediction. We will find/detect this type of multicollinearity in a different way ahead."
      ]
    },
    {
      "cell_type": "code",
      "execution_count": null,
      "metadata": {
        "id": "GtSNJcRKMAuP"
      },
      "outputs": [],
      "source": [
        "# detecting multicollinearity by VIF\n",
        "\n",
        "from statsmodels.stats.outliers_influence import variance_inflation_factor\n",
        "attributes = df[['Temperature(°C)','Dew point temperature(°C)','Humidity(%)','Wind speed (m/s)','Visibility (10m)','Solar Radiation (MJ/m2)','Rainfall(mm)','Snowfall (cm)']]\n",
        "VIF = pd.DataFrame()\n",
        "VIF[\"feature\"] = attributes.columns\n",
        "#calculating VIF\n",
        "VIF[\"Variance Inflation Factor\"] = [variance_inflation_factor(attributes.values, i)\n",
        "                          for i in range(len(attributes.columns))]\n",
        "\n",
        "print(VIF)"
      ]
    },
    {
      "cell_type": "code",
      "execution_count": null,
      "metadata": {
        "id": "gwrxJm8UsoJh"
      },
      "outputs": [],
      "source": [
        "# watching correlation between target variable and remaining independent variable\n",
        "numeric_columns = df.select_dtypes(include=['int', 'float'])\n",
        "numeric_columns.corr()['Rented Bike Count']"
      ]
    },
    {
      "cell_type": "markdown",
      "metadata": {
        "id": "_TrQY1HpMmrS"
      },
      "source": [
        "Temperature has more correlation with Dependend varaible, so lets drop Due point temp. from list and check VIF"
      ]
    },
    {
      "cell_type": "code",
      "execution_count": null,
      "metadata": {
        "id": "wTVpS_9-MUOR"
      },
      "outputs": [],
      "source": [
        "# detecting multicollinearity by VIF\n",
        "\n",
        "from statsmodels.stats.outliers_influence import variance_inflation_factor\n",
        "attributes = df[['Temperature(°C)','Humidity(%)','Wind speed (m/s)','Visibility (10m)','Solar Radiation (MJ/m2)','Rainfall(mm)','Snowfall (cm)']]\n",
        "VIF = pd.DataFrame()\n",
        "VIF[\"feature\"] = attributes.columns\n",
        "#calculating VIF\n",
        "VIF[\"Variance Inflation Factor\"] = [variance_inflation_factor(attributes.values, i)\n",
        "                          for i in range(len(attributes.columns))]\n",
        "\n",
        "print(VIF)"
      ]
    },
    {
      "cell_type": "markdown",
      "metadata": {
        "id": "WzhMcgyZM5U6"
      },
      "source": [
        "Now VIF is preety much normal and hence Dropping Dew Point temperature would be better choice"
      ]
    },
    {
      "cell_type": "code",
      "execution_count": null,
      "metadata": {
        "id": "fxex09xhMWSw"
      },
      "outputs": [],
      "source": [
        "df.drop(['Dew point temperature(°C)'],axis=1,inplace=True)"
      ]
    },
    {
      "cell_type": "markdown",
      "metadata": {
        "id": "Bzye4zNkEoye"
      },
      "source": [
        "### Total columns after droping Dew Point temperature , remaining columns are   "
      ]
    },
    {
      "cell_type": "code",
      "execution_count": null,
      "metadata": {
        "id": "h3LUHmEgFtZm"
      },
      "outputs": [],
      "source": [
        "df.columns.to_list()"
      ]
    },
    {
      "cell_type": "markdown",
      "metadata": {
        "id": "po85iywlITdt"
      },
      "source": [
        "# **Feature Transformation**"
      ]
    },
    {
      "cell_type": "markdown",
      "source": [
        "#### Chart - 11"
      ],
      "metadata": {
        "id": "x-EpHcCOp1ci"
      }
    },
    {
      "cell_type": "code",
      "source": [
        "# Chart - 11 visualization code"
      ],
      "metadata": {
        "id": "mAQTIvtqp1cj"
      },
      "execution_count": null,
      "outputs": []
    },
    {
      "cell_type": "code",
      "execution_count": null,
      "metadata": {
        "id": "relfFouJgM25"
      },
      "outputs": [],
      "source": [
        "# checking distribution of Coubtinous Vriable\n",
        "numrical_col=['Rented Bike Count','Temperature(°C)', 'Humidity(%)',\n",
        "       'Wind speed (m/s)', 'Visibility (10m)',\n",
        "       'Solar Radiation (MJ/m2)', 'Rainfall(mm)', 'Snowfall (cm)']\n",
        "plt.figure(figsize=(18,10))\n",
        "n=1\n",
        "for i in numrical_col:\n",
        "  plt.subplot(3,3,n)\n",
        "  n=n+1\n",
        "  sns.distplot(df[i])"
      ]
    },
    {
      "cell_type": "code",
      "execution_count": null,
      "metadata": {
        "id": "P4IL5_xpgYjy"
      },
      "outputs": [],
      "source": [
        "# checking skewness of features\n",
        "df[numrical_col].skew().sort_values(ascending=False)"
      ]
    },
    {
      "cell_type": "code",
      "execution_count": null,
      "metadata": {
        "id": "JNix2PTn5D_y"
      },
      "outputs": [],
      "source": [
        "# applying power transformation\n",
        "from sklearn.preprocessing import PowerTransformer\n",
        "sc_X=PowerTransformer(method = 'yeo-johnson')\n",
        "df[numrical_col]=sc_X.fit_transform(df[numrical_col])"
      ]
    },
    {
      "cell_type": "code",
      "execution_count": null,
      "metadata": {
        "id": "jnf62Pwf5-fV"
      },
      "outputs": [],
      "source": [
        "# Data distribution after applying Power Transformer\n",
        "plt.figure(figsize=(18,10))\n",
        "n=1\n",
        "for i in numrical_col:\n",
        "  plt.subplot(3,3,n)\n",
        "  n=n+1\n",
        "  sns.distplot(df[i])"
      ]
    },
    {
      "cell_type": "code",
      "execution_count": null,
      "metadata": {
        "id": "cU5onR2eKvm7"
      },
      "outputs": [],
      "source": [
        "# skewness after power transformation\n",
        "df[numrical_col].skew().sort_values(ascending=False)"
      ]
    },
    {
      "cell_type": "markdown",
      "source": [
        "##### 1. Why did you pick the specific chart?"
      ],
      "metadata": {
        "id": "X_VqEhTip1ck"
      }
    },
    {
      "cell_type": "markdown",
      "source": [
        "I chose the 'distplot' chart to visualize the distribution of continuous variables because it succinctly presents key characteristics like central tendency, spread, and shape, aiding in understanding data distribution patterns efficiently.\n",
        "\n"
      ],
      "metadata": {
        "id": "-vsMzt_np1ck"
      }
    },
    {
      "cell_type": "markdown",
      "source": [
        "##### 2. What is/are the insight(s) found from the chart?"
      ],
      "metadata": {
        "id": "8zGJKyg5p1ck"
      }
    },
    {
      "cell_type": "markdown",
      "source": [
        "1. Normalization: The data distributions are more symmetric and bell-shaped after transformation.\n",
        "2. Reduced Skewness: Skewness values are significantly lower, indicating more balanced data.\n",
        "3. Improved Suitability: The transformed data is now better suited for statistical analysis and predictive modeling."
      ],
      "metadata": {
        "id": "ZYdMsrqVp1ck"
      }
    },
    {
      "cell_type": "markdown",
      "source": [
        "##### 3. Will the gained insights help creating a positive business impact?\n",
        "Are there any insights that lead to negative growth? Justify with specific reason."
      ],
      "metadata": {
        "id": "PVzmfK_Ep1ck"
      }
    },
    {
      "cell_type": "markdown",
      "source": [
        "1. Positive Impact:\n",
        "Improved model accuracy and reliable statistical analysis enhance decision-making.\n",
        "2. Negative Impact:\n",
        "Misinterpretation of transformed data and insufficient documentation could lead to errors.\n",
        "\n",
        "\n",
        "\n",
        "\n"
      ],
      "metadata": {
        "id": "druuKYZpp1ck"
      }
    },
    {
      "cell_type": "markdown",
      "metadata": {
        "id": "DSY4tqRcOzRy"
      },
      "source": [
        "# **Encoding**"
      ]
    },
    {
      "cell_type": "markdown",
      "metadata": {
        "id": "vDIPsLAnLyfR"
      },
      "source": [
        " ***Technique of converting categorical variables into numerical values so that it could be easily fitted to a machine learning model***"
      ]
    },
    {
      "cell_type": "code",
      "execution_count": null,
      "metadata": {
        "id": "elZtZUq6fEmC"
      },
      "outputs": [],
      "source": [
        "# lets have look at dataset to know which columns need to be encoded\n",
        "df.head().T"
      ]
    },
    {
      "cell_type": "markdown",
      "metadata": {
        "id": "kLuhl6rfDRGO"
      },
      "source": [
        "columns to encode\n",
        "\n",
        "1. Seasons\n",
        "2. Holiday\n",
        "3. Functioning Day\n",
        "4. day_name\n",
        "5. year"
      ]
    },
    {
      "cell_type": "markdown",
      "metadata": {
        "id": "ynF257tcK_JJ"
      },
      "source": [
        "Binary Encoding"
      ]
    },
    {
      "cell_type": "code",
      "execution_count": null,
      "metadata": {
        "id": "JELnvOV1fELl"
      },
      "outputs": [],
      "source": [
        "df.replace({'Holiday': { 'No Holiday': 0,'Holiday': 1 },'Functioning Day': { 'Yes': 0,'No': 1},'year':{2017:0,2018:1}},inplace=True)"
      ]
    },
    {
      "cell_type": "code",
      "execution_count": null,
      "metadata": {
        "id": "ojNr9OavTzjC"
      },
      "outputs": [],
      "source": [
        "df1=df.copy()\n",
        "df1.head()"
      ]
    },
    {
      "cell_type": "code",
      "execution_count": null,
      "metadata": {
        "id": "XnVp6I-2aWnj"
      },
      "outputs": [],
      "source": [
        "# shape of data after binary encoding\n",
        "df.shape"
      ]
    },
    {
      "cell_type": "code",
      "execution_count": null,
      "metadata": {
        "id": "TYAqPyDxZ2ZS"
      },
      "outputs": [],
      "source": [
        "#df['Hour'].value_counts()"
      ]
    },
    {
      "cell_type": "code",
      "execution_count": null,
      "metadata": {
        "id": "iDcPJpP6fDpE"
      },
      "outputs": [],
      "source": [
        "dummy_col=pd.get_dummies(df[['Seasons','day_name','Hour']],drop_first=True)"
      ]
    },
    {
      "cell_type": "code",
      "execution_count": null,
      "metadata": {
        "id": "O5cXe35xbXf3"
      },
      "outputs": [],
      "source": [
        "# dummy columns in data\n",
        "dummy_col.columns"
      ]
    },
    {
      "cell_type": "code",
      "execution_count": null,
      "metadata": {
        "id": "f8y2kwjvccU6"
      },
      "outputs": [],
      "source": [
        "# HAVE A LOOK AT ENCODED DATA\n",
        "df.head().T"
      ]
    },
    {
      "cell_type": "code",
      "execution_count": null,
      "metadata": {
        "id": "_o_GhpLeeWiz"
      },
      "outputs": [],
      "source": [
        "df.shape"
      ]
    },
    {
      "cell_type": "code",
      "execution_count": null,
      "metadata": {
        "id": "22XPuM4KEuse"
      },
      "outputs": [],
      "source": [
        "df.columns"
      ]
    },
    {
      "cell_type": "code",
      "execution_count": null,
      "metadata": {
        "id": "ogJPP-7-fmvG"
      },
      "outputs": [],
      "source": [
        "len(df.columns)"
      ]
    },
    {
      "cell_type": "code",
      "execution_count": null,
      "metadata": {
        "id": "hWPTmi4KlyUi"
      },
      "outputs": [],
      "source": [
        "# dropping year & month to re\n",
        "df.drop(['year','month','Date','Seasons','day','day_name'] , axis=1 , inplace=True)"
      ]
    },
    {
      "cell_type": "code",
      "execution_count": null,
      "metadata": {
        "id": "9wf0lA64cq9c"
      },
      "outputs": [],
      "source": [
        "# joining dummy features to dataframe df\n",
        "df=df.join(dummy_col)"
      ]
    },
    {
      "cell_type": "code",
      "execution_count": null,
      "metadata": {
        "id": "czCqaT2zcQOG"
      },
      "outputs": [],
      "source": [
        "# HAVE A LOOK AT ENCODED DATA\n",
        "df.head().T"
      ]
    },
    {
      "cell_type": "code",
      "source": [
        "df.columns"
      ],
      "metadata": {
        "id": "VgbQoJzMh_-U"
      },
      "execution_count": null,
      "outputs": []
    },
    {
      "cell_type": "code",
      "execution_count": null,
      "metadata": {
        "id": "WmioJ03hFEB8"
      },
      "outputs": [],
      "source": [
        "\n",
        "# Importing Minmaxscaler to scale data\n",
        "from sklearn.preprocessing import MinMaxScaler,StandardScaler\n",
        "\n",
        "#Import the Models\n",
        "from sklearn.linear_model import LinearRegression\n",
        "from sklearn.preprocessing import PolynomialFeatures\n",
        "from sklearn.linear_model import Ridge\n",
        "from sklearn.tree import DecisionTreeRegressor\n",
        "from sklearn.ensemble import BaggingRegressor\n",
        "from sklearn.ensemble import AdaBoostRegressor\n",
        "from sklearn.ensemble import GradientBoostingRegressor\n",
        "from xgboost import XGBRegressor\n",
        "from sklearn.linear_model import SGDRegressor\n",
        "from sklearn.ensemble import RandomForestRegressor\n",
        "from sklearn.model_selection import cross_val_score"
      ]
    },
    {
      "cell_type": "code",
      "execution_count": null,
      "metadata": {
        "id": "UNVFhDQH8uAE"
      },
      "outputs": [],
      "source": [
        "from sklearn.metrics import mean_absolute_error,mean_squared_error,r2_score"
      ]
    },
    {
      "cell_type": "code",
      "execution_count": null,
      "metadata": {
        "id": "yDWAwVPPFHVn"
      },
      "outputs": [],
      "source": [
        "# x= independant variable , y= Dependant variable\n",
        "\n",
        "X=df.drop(columns=['Rented Bike Count'])\n",
        "y=df['Rented Bike Count']"
      ]
    },
    {
      "cell_type": "code",
      "execution_count": null,
      "metadata": {
        "id": "b8SlbwRaFKRP"
      },
      "outputs": [],
      "source": [
        "# train_test_split to divide data into training & testing\n",
        "from sklearn.model_selection import train_test_split\n",
        "X_train, X_test, Y_train, Y_test = train_test_split(X,y,test_size=0.2,random_state=42)"
      ]
    },
    {
      "cell_type": "code",
      "execution_count": null,
      "metadata": {
        "id": "dNNqASzxEQXw"
      },
      "outputs": [],
      "source": [
        "# checking shape of trainign data & testing data\n",
        "X_train.shape , X_test.shape"
      ]
    },
    {
      "cell_type": "code",
      "execution_count": null,
      "metadata": {
        "id": "GtCcU1wiEfud"
      },
      "outputs": [],
      "source": [
        "X_train.head()"
      ]
    },
    {
      "cell_type": "code",
      "execution_count": null,
      "metadata": {
        "id": "SOUH4ELhFCZm"
      },
      "outputs": [],
      "source": [
        "X_test.head()"
      ]
    },
    {
      "cell_type": "code",
      "execution_count": null,
      "metadata": {
        "id": "xu6dB8obQakO"
      },
      "outputs": [],
      "source": [
        "numrical_col"
      ]
    },
    {
      "cell_type": "code",
      "execution_count": null,
      "metadata": {
        "id": "FBDfBvvaQafe"
      },
      "outputs": [],
      "source": [
        "categorical_col=['Holiday', 'Functioning Day',\n",
        "       'Seasons_Spring', 'Seasons_Summer', 'Seasons_Winter', 'day_name_Monday',\n",
        "       'day_name_Saturday', 'day_name_Sunday', 'day_name_Thursday',\n",
        "       'day_name_Tuesday', 'day_name_Wednesday', 'Hour_Second half',\n",
        "       'Hour_Third half', 'Hour_fourth half']\n",
        "\n",
        "categorical_col"
      ]
    },
    {
      "cell_type": "markdown",
      "metadata": {
        "id": "ZaFjQtN1TjhD"
      },
      "source": [
        "# **Scaling**\n",
        "\n"
      ]
    },
    {
      "cell_type": "code",
      "execution_count": null,
      "metadata": {
        "id": "A3gCKgeTJCgM"
      },
      "outputs": [],
      "source": [
        "# Transform Numrical features by scaling each feature to a given range.\n",
        "scaler = MinMaxScaler()\n",
        "scaling_cols = ['Temperature(°C)','Humidity(%)','Wind speed (m/s)','Visibility (10m)','Solar Radiation (MJ/m2)','Rainfall(mm)','Snowfall (cm)']\n",
        "X_train[scaling_cols]=scaler.fit_transform(X_train[scaling_cols])\n",
        "X_test[scaling_cols]=scaler.transform(X_test[scaling_cols])"
      ]
    },
    {
      "cell_type": "code",
      "execution_count": null,
      "metadata": {
        "id": "N4t4DZ5vQKUJ"
      },
      "outputs": [],
      "source": [
        "# Shape of Testing data\n",
        "X_test.shape"
      ]
    },
    {
      "cell_type": "code",
      "execution_count": null,
      "metadata": {
        "id": "b-bxCh3KNU0Q"
      },
      "outputs": [],
      "source": [
        "X_train.head()"
      ]
    },
    {
      "cell_type": "markdown",
      "source": [
        "# ML Model Implementation"
      ],
      "metadata": {
        "id": "VfCC591jGiD4"
      }
    },
    {
      "cell_type": "markdown",
      "source": [
        "### ML Model - 1"
      ],
      "metadata": {
        "id": "OB4l2ZhMeS1U"
      }
    },
    {
      "cell_type": "code",
      "execution_count": null,
      "metadata": {
        "id": "EcKp1MsZEqAb"
      },
      "outputs": [],
      "source": [
        "# defining function to fit model get evaluation metrics also cross validation score\n",
        "\n",
        "def fit_evaluate (model):\n",
        "  model.fit(X_train,Y_train)\n",
        "  y_pred=model.predict(X_test)\n",
        "\n",
        "  MSE  = mean_squared_error(Y_test, y_pred)\n",
        "  print(\"MSE:\" ,round(MSE,2))\n",
        "  MAE=mean_absolute_error(Y_test, y_pred)\n",
        "  print(\"MAE :\" ,round(MAE,2))\n",
        "\n",
        "  RMSE = np.sqrt(MSE)\n",
        "  print(\"RMSE :\" ,round(RMSE,2))\n",
        "\n",
        "  r2 = r2_score(Y_test, y_pred)\n",
        "  print(\"R2 :\" ,round(r2,2))\n",
        "  Adjusted_R2 = 1-(1-r2_score(Y_test, y_pred))*((X_test.shape[0]-1)/(X_test.shape[0]-X_test.shape[1]-1))\n",
        "  print(\"Adjusted R2 : \",round(Adjusted_R2,2))\n",
        "\n",
        "  # measuring the accuracy of the model against the training data & testing daya\n",
        "  print('                          ')\n",
        "  print(\"-------Model accuracy-------\")\n",
        "  print(f\"Training accuracy: {round(model.score(X_train,Y_train)*100)}%\")\n",
        "  print(f\"Testing accuracy: {round(model.score(X_test,Y_test)*100)}%\")\n",
        "  print('                          ')\n",
        "  print(\"-------cross_val_score-------\")\n",
        "  accuracies = cross_val_score(estimator = model, X = X_train, y = Y_train, cv = 5)\n",
        "  print(\"Cross Val Accuracy: {:.2f} %\".format(accuracies.mean()*100))\n",
        "\n",
        "  # Ploting graph of actual vs predicted\n",
        "  plt.figure(figsize=(20,10))\n",
        "  plt.plot((y_pred)[:100])\n",
        "  plt.plot((np.array(Y_test)[:100]))\n",
        "  plt.legend([\"Predicted\",\"Actual\"])\n",
        "  plt.title(f'Difference in predicted & actual for {model}')\n",
        "  plt.show()"
      ]
    },
    {
      "cell_type": "code",
      "execution_count": null,
      "metadata": {
        "id": "kFLRpN6JP-DR"
      },
      "outputs": [],
      "source": [
        "# Shape of Training data\n",
        "X_train.shape"
      ]
    },
    {
      "cell_type": "markdown",
      "source": [
        "### ML Model - 2"
      ],
      "metadata": {
        "id": "dJ2tPlVmpsJ0"
      }
    },
    {
      "cell_type": "markdown",
      "metadata": {
        "id": "ZDxyBFxbUpha"
      },
      "source": [
        "**LinearRegression**"
      ]
    },
    {
      "cell_type": "code",
      "execution_count": null,
      "metadata": {
        "id": "R441Rg08K1Oi"
      },
      "outputs": [],
      "source": [
        "\n",
        "lr= LinearRegression()"
      ]
    },
    {
      "cell_type": "code",
      "source": [
        "fit_evaluate(lr)"
      ],
      "metadata": {
        "id": "ocQU4GApj-5g"
      },
      "execution_count": null,
      "outputs": []
    },
    {
      "cell_type": "code",
      "source": [
        "X_train.head()"
      ],
      "metadata": {
        "id": "2nQ_1sJKkMAT"
      },
      "execution_count": null,
      "outputs": []
    },
    {
      "cell_type": "code",
      "execution_count": null,
      "metadata": {
        "id": "5Hmlkpt-5qzM"
      },
      "outputs": [],
      "source": [
        "# Applying Polynomial Linear Regression\n",
        "# degree 2\n",
        "poly = PolynomialFeatures(degree=2,include_bias=True)\n",
        "X_train_trans = poly.fit_transform(X_train)\n",
        "X_test_trans = poly.transform(X_test)"
      ]
    },
    {
      "cell_type": "code",
      "execution_count": null,
      "metadata": {
        "id": "EuVqW9lmPCSj"
      },
      "outputs": [],
      "source": [
        "lr = LinearRegression()\n",
        "lr.fit(X_train_trans,Y_train)\n",
        "y_pred1 = lr.predict(X_test_trans)"
      ]
    },
    {
      "cell_type": "code",
      "execution_count": null,
      "metadata": {
        "id": "fTpWF-WSzhsw"
      },
      "outputs": [],
      "source": [
        "training_score=lr.score(X_train_trans,Y_train)*100\n",
        "testing_score=lr.score(X_test_trans,Y_test)*100\n",
        "print(f\"Training score: {training_score}\")\n",
        "print(f\"testing score: {testing_score}\")"
      ]
    },
    {
      "cell_type": "code",
      "execution_count": null,
      "metadata": {
        "id": "GPTlRWnK6twC"
      },
      "outputs": [],
      "source": [
        "MSE  = mean_squared_error(Y_test, y_pred1)\n",
        "print(\"MSE :\" , MSE)\n",
        "\n",
        "MAE=mean_absolute_error(Y_test, y_pred1)\n",
        "print(\"MAE :\" ,MAE)\n",
        "\n",
        "RMSE = np.sqrt(MSE)\n",
        "print(\"RMSE :\" ,RMSE)\n",
        "\n",
        "r2 = r2_score(Y_test, y_pred1)\n",
        "print(\"R2 :\" ,r2)\n",
        "Adjusted_R2 = 1-(1-r2_score(Y_test, y_pred1))*((X_test.shape[0]-1)/(X_test.shape[0]-X_test.shape[1]-1))\n",
        "print(\"Adjusted R2 : \",Adjusted_R2)\n",
        "\n",
        " # Ploting graph of actual vs predicted\n",
        "plt.figure(figsize=(20,10))\n",
        "plt.plot((y_pred1)[:100])\n",
        "plt.plot((np.array(Y_test)[:100]))\n",
        "plt.legend([\"Predicted\",\"Actual\"])\n",
        "plt.title(f'Difference in predicted & actual for polynomial Regression')\n",
        "plt.show()"
      ]
    },
    {
      "cell_type": "code",
      "execution_count": null,
      "metadata": {
        "id": "8ETUr4GqREdx"
      },
      "outputs": [],
      "source": [
        " poly_score = {'r2':r2,'Adjusted_R2':Adjusted_R2,'MSE':MSE,'RMSE':RMSE,'MAE':MAE,'Training_score':training_score,'testing_score':testing_score}"
      ]
    },
    {
      "cell_type": "markdown",
      "source": [
        "### ML Model - 3"
      ],
      "metadata": {
        "id": "Fze-IPXLpx6K"
      }
    },
    {
      "cell_type": "markdown",
      "metadata": {
        "id": "suQ0fOETPvnG"
      },
      "source": [
        "**Ridge**"
      ]
    },
    {
      "cell_type": "code",
      "execution_count": null,
      "metadata": {
        "id": "21WmtXanP45A"
      },
      "outputs": [],
      "source": [
        "R = Ridge(alpha=9)\n",
        "fit_evaluate(R)"
      ]
    },
    {
      "cell_type": "markdown",
      "metadata": {
        "id": "APz7th-eqYet"
      },
      "source": [
        "**Decision Tree**"
      ]
    },
    {
      "cell_type": "code",
      "execution_count": null,
      "metadata": {
        "id": "J1J2f4Xj3Fuw"
      },
      "outputs": [],
      "source": [
        "regressor=DecisionTreeRegressor(max_depth=18)\n",
        "fit_evaluate(regressor)"
      ]
    },
    {
      "cell_type": "markdown",
      "metadata": {
        "id": "l2A51_xcIgKz"
      },
      "source": [
        "**BaggingRegressor**"
      ]
    },
    {
      "cell_type": "code",
      "execution_count": null,
      "metadata": {
        "id": "aMg1YmGwYIx6"
      },
      "outputs": [],
      "source": [
        "bag_regressor= BaggingRegressor(random_state=22)\n",
        "fit_evaluate(bag_regressor)"
      ]
    },
    {
      "cell_type": "markdown",
      "metadata": {
        "id": "OZgS0amSqS6t"
      },
      "source": [
        "**Random Forest**"
      ]
    },
    {
      "cell_type": "code",
      "execution_count": null,
      "metadata": {
        "id": "0GO_FhBeYobK"
      },
      "outputs": [],
      "source": [
        "random_forest=RandomForestRegressor(n_estimators=10,random_state=0)\n",
        "fit_evaluate(random_forest)"
      ]
    },
    {
      "cell_type": "markdown",
      "metadata": {
        "id": "IXcHZH_sR3J7"
      },
      "source": [
        "**Randomized Search Cv**"
      ]
    },
    {
      "cell_type": "code",
      "execution_count": null,
      "metadata": {
        "id": "u50_8t4TRxQP"
      },
      "outputs": [],
      "source": [
        "from sklearn.model_selection import RandomizedSearchCV\n",
        "# Number of trees in random forest\n",
        "n_estimators = [int(x) for x in np.linspace(start = 200, stop = 2000, num = 10)]\n",
        "# Number of features to consider at every split\n",
        "max_features = ['auto', 'sqrt','log2']\n",
        "# Maximum number of levels in tree\n",
        "max_depth = [int(x) for x in np.linspace(10, 1000,10)]\n",
        "# Minimum number of samples required to split a node\n",
        "min_samples_split = [2, 5, 10,14]\n",
        "# Minimum number of samples required at each leaf node\n",
        "min_samples_leaf = [1, 2, 4,6,8]\n",
        "\n",
        "# Create the random grid\n",
        "random_grid = {'n_estimators': n_estimators,\n",
        "               'max_features': max_features,\n",
        "               'max_depth': max_depth,\n",
        "               'min_samples_split': min_samples_split,\n",
        "               'min_samples_leaf': min_samples_leaf,\n",
        "              'criterion':['friedman_mse', 'squared_error','gini']}\n",
        "print(random_grid)"
      ]
    },
    {
      "cell_type": "code",
      "execution_count": null,
      "metadata": {
        "id": "32GKG55OC9b0"
      },
      "outputs": [],
      "source": [
        "random_forest_best=RandomForestRegressor()"
      ]
    },
    {
      "cell_type": "code",
      "execution_count": null,
      "metadata": {
        "id": "2w9an0yTcHN6"
      },
      "outputs": [],
      "source": [
        "model_randomcv=RandomizedSearchCV(estimator=random_forest_best,param_distributions=random_grid,n_iter=10,cv=3,verbose=2,\n",
        "                               random_state=100,n_jobs=-1)\n",
        "### fit the randomized model\n",
        "model_randomcv.fit(X_train,Y_train)"
      ]
    },
    {
      "cell_type": "code",
      "execution_count": null,
      "metadata": {
        "id": "5nhjqwjiDggt"
      },
      "outputs": [],
      "source": [
        "model_randomcv.best_params_"
      ]
    },
    {
      "cell_type": "code",
      "execution_count": null,
      "metadata": {
        "id": "g6cZOsutDnNb"
      },
      "outputs": [],
      "source": [
        "random_forest=RandomForestRegressor(n_estimators=600,min_samples_split=2,min_samples_leaf=1,max_features='sqrt',max_depth=120,criterion='squared_error',random_state=0)\n",
        "fit_evaluate(random_forest)"
      ]
    },
    {
      "cell_type": "markdown",
      "metadata": {
        "id": "cc2dmoyIvbn6"
      },
      "source": [
        "**Adaboost**"
      ]
    },
    {
      "cell_type": "code",
      "execution_count": null,
      "metadata": {
        "id": "sn0PqqxputVz"
      },
      "outputs": [],
      "source": [
        "# weakbase --> accuracy 50% or just more than 50%\n",
        "# decision sGtump -> smallest decision tree, depth=1\n",
        "# adaboost--> join multiple weakbase and create strong learner\n",
        "# weaklearner of adaboost--> Decision stump"
      ]
    },
    {
      "cell_type": "code",
      "execution_count": null,
      "metadata": {
        "id": "Q5ale1B1x3Ao"
      },
      "outputs": [],
      "source": [
        "ada_regressor= AdaBoostRegressor(random_state=22)\n",
        "fit_evaluate(ada_regressor)"
      ]
    },
    {
      "cell_type": "markdown",
      "metadata": {
        "id": "OGRMDqVG_zaP"
      },
      "source": [
        "**Gradientboost**"
      ]
    },
    {
      "cell_type": "code",
      "execution_count": null,
      "metadata": {
        "id": "tpkUrdwX4TUy"
      },
      "outputs": [],
      "source": [
        "gb= GradientBoostingRegressor(random_state=22)\n",
        "fit_evaluate(gb)"
      ]
    },
    {
      "cell_type": "code",
      "execution_count": null,
      "metadata": {
        "id": "dZ71WGhTycUq"
      },
      "outputs": [],
      "source": [
        "# defining function to save accuracy metrics for model evaluation summary\n",
        "evaluation_summary=[]\n",
        "def save_score (model):\n",
        "  model.fit(X_train,Y_train)\n",
        "  y_pred=model.predict(X_test)\n",
        "\n",
        "  MSE  = mean_squared_error(Y_test, y_pred)\n",
        "  MAE=mean_absolute_error(Y_test, y_pred)\n",
        "  RMSE = np.sqrt(MSE)\n",
        "  r2 = r2_score(Y_test, y_pred)\n",
        "  Adjusted_R2 = 1-(1-r2_score(Y_test, y_pred))*((X_test.shape[0]-1)/(X_test.shape[0]-X_test.shape[1]-1))\n",
        "  training_score=round(model.score(X_train,Y_train)*100,2)\n",
        "  testing_score=round(model.score(X_test,Y_test)*100,2)\n",
        "  cv_accuracies = cross_val_score(estimator = model, X = X_train, y = Y_train, cv = 5)\n",
        "  model={'r2':round(r2,2),'Adjusted_R2':round(Adjusted_R2,2),'MSE':round(MSE,2),'RMSE':round(RMSE,2),'MAE':round(MAE,2),'Training_score':round(training_score,2),'testing_score':round(testing_score,2)}\n",
        "  evaluation_summary.append(model)\n",
        "  #evaluation_summary.write(\"\\n\")\n",
        "\n",
        "\n"
      ]
    },
    {
      "cell_type": "code",
      "execution_count": null,
      "metadata": {
        "id": "QLIwqDZ1yFK5"
      },
      "outputs": [],
      "source": [
        "algo=[lr,R,regressor,bag_regressor,random_forest,random_forest_best,ada_regressor,gb]\n",
        "l=[]\n",
        "for i in algo:\n",
        "  save_score(i)"
      ]
    },
    {
      "cell_type": "code",
      "execution_count": null,
      "metadata": {
        "id": "aq73_k3Uz_4P"
      },
      "outputs": [],
      "source": [
        "for idx, summary in enumerate(evaluation_summary, 1):\n",
        "    print(f\"Model {idx}:\")\n",
        "    for metric, value in summary.items():\n",
        "        print(f\"{metric}: {value}\")\n",
        "    print()"
      ]
    },
    {
      "cell_type": "code",
      "execution_count": null,
      "metadata": {
        "id": "qqpnAMTgU2WL"
      },
      "outputs": [],
      "source": [
        " poly_score={'r2':round(r2,2),'Adjusted_R2':round(Adjusted_R2,2),'MSE':round(MSE,2),'RMSE':round(RMSE,2),'MAE':round(MAE,2),'Training_score':round(training_score,2),'testing_score':round(testing_score,2)}"
      ]
    },
    {
      "cell_type": "code",
      "execution_count": null,
      "metadata": {
        "id": "cOkJHdfnKy_j"
      },
      "outputs": [],
      "source": [
        "df=pd.DataFrame(evaluation_summary,index=['lr','R','decision_tree','bag_regressor','random_forest','random_forest_best','ada_regressor','gb']).rename_axis('model', axis=1).sort_values(by='r2',ascending=False)"
      ]
    },
    {
      "cell_type": "code",
      "execution_count": null,
      "metadata": {
        "id": "d9VgXeA_YIvc"
      },
      "outputs": [],
      "source": [
        "df"
      ]
    },
    {
      "cell_type": "code",
      "execution_count": null,
      "metadata": {
        "id": "8F50bo8KWu8r"
      },
      "outputs": [],
      "source": [
        "poly_df=pd.DataFrame(poly_score,index=['poly'])"
      ]
    },
    {
      "cell_type": "code",
      "execution_count": null,
      "metadata": {
        "id": "UWFyvfDRWo8s"
      },
      "outputs": [],
      "source": [
        "new_df=pd.concat([df,poly_df]).sort_values(by='r2',ascending=False)\n",
        "new_df"
      ]
    },
    {
      "cell_type": "markdown",
      "metadata": {
        "id": "RjP9TQtjJQto"
      },
      "source": [
        "# **Model summary**"
      ]
    },
    {
      "cell_type": "code",
      "execution_count": null,
      "metadata": {
        "id": "9dkBCyUAadpP"
      },
      "outputs": [],
      "source": [
        "new_df.round(2).style.background_gradient(cmap='Pastel2')"
      ]
    },
    {
      "cell_type": "markdown",
      "metadata": {
        "id": "eOgRuF7TSPY1"
      },
      "source": [
        "OR"
      ]
    },
    {
      "cell_type": "code",
      "execution_count": null,
      "metadata": {
        "id": "hGcowkDo20h2"
      },
      "outputs": [],
      "source": [
        "from tabulate import tabulate\n",
        "import pandas as pd"
      ]
    },
    {
      "cell_type": "code",
      "execution_count": null,
      "metadata": {
        "id": "BdeP2aI724Ii"
      },
      "outputs": [],
      "source": [
        "print(tabulate(new_df, headers = 'keys', tablefmt = 'fancy_grid'))"
      ]
    },
    {
      "cell_type": "markdown",
      "source": [
        "### ***Congrats! Your model is successfully created and ready for deployment on a live server for a real user interaction !!!***"
      ],
      "metadata": {
        "id": "-Kee-DAl2viO"
      }
    },
    {
      "cell_type": "markdown",
      "source": [
        "# **Conclusion**"
      ],
      "metadata": {
        "id": "gCX9965dhzqZ"
      }
    },
    {
      "cell_type": "markdown",
      "source": [
        "1. Best Model: We found that using Random Forest with advanced tuning gave us the most accurate predictions, achieving a high\n",
        "𝑅-square score of 0.91.\n",
        "\n",
        "2. Peak Times: The busiest times for bike rentals are at 8am and 6pm, likely when people are going to and from work.\n",
        "\n",
        "3. Seasonal Trends: More bikes are rented in summer and fewer in winter, which makes sense because fewer people bike in colder weather.\n",
        "\n",
        "4. Weekday vs Weekend: Bike rentals are more popular on weekdays, probably because people use them for commuting to work.\n",
        "\n",
        "5. Growth in Demand: We saw a big increase in bike rentals during 2018, suggesting that more people were using bike-sharing services.\n",
        "\n",
        "6. Project Completion: successfully finished Machine Learning Capstone Project\n",
        "\n"
      ],
      "metadata": {
        "id": "Fjb1IsQkh3yE"
      }
    },
    {
      "cell_type": "markdown",
      "source": [
        "### ***Hurrah! You have successfully completed your Machine Learning Capstone Project !!!***"
      ],
      "metadata": {
        "id": "gIfDvo9L0UH2"
      }
    }
  ]
}